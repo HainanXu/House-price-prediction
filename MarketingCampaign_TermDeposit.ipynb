{
  "cells": [
    {
      "cell_type": "markdown",
      "metadata": {
        "id": "eBkMHwKPKZgL"
      },
      "source": [
        "# 1. Model\n",
        "## Data Preprocessing & EDA\n",
        "Data contains 41188 observations and 21 features. Response y refers to whether or not the client subscribe the term deposite."
      ]
    },
    {
      "cell_type": "code",
      "execution_count": null,
      "metadata": {
        "id": "_ooJuQaIKXDK"
      },
      "outputs": [],
      "source": [
        "import pandas as pd\n",
        "\n",
        "import numpy as npn\n",
        "import matplotlib.pyplot as plt\n",
        "\n",
        "from sklearn.model_selection import train_test_split\n",
        "from sklearn.preprocessing import OneHotEncoder\n",
        "\n",
        "from sklearn.linear_model import LogisticRegression\n",
        "from sklearn import metrics\n",
        "\n",
        "from sklearn.utils import resample\n",
        "\n",
        "from sklearn.metrics import classification_report, confusion_matrix, roc_auc_score,accuracy_score,roc_curve\n"
      ]
    },
    {
      "cell_type": "code",
      "execution_count": null,
      "metadata": {
        "id": "X6JITg8nKvJ9"
      },
      "outputs": [],
      "source": [
        "def conversion_rate_by_cat(varname):\n",
        "  '''\n",
        "  varname(str): variable name such as 'job', 'education', etc.'''\n",
        "  job_y=pd.concat([df[varname],df['y']],axis=1)\n",
        "  counts_by_job=job_y.groupby([varname,'y']).size().unstack()\n",
        "  conversion_rate_by_job=counts_by_job['yes']/(counts_by_job['yes']+counts_by_job['no'])\n",
        "\n",
        "  conversion_rate_by_job=conversion_rate_by_job.reset_index()\n",
        "  conversion_rate_by_job.columns=[varname,'proportion']\n",
        "\n",
        "  plt.xticks(rotation=45)\n",
        "  plt.bar(conversion_rate_by_job[varname],conversion_rate_by_job['proportion'],color='salmon',alpha=0.6)\n",
        "  plt.axhline(y=base_conversion_rate, color='blue', linestyle='--')\n",
        "  plt.title(f'Subscription proportion by {varname}')\n",
        "\n",
        "  return conversion_rate_by_job\n",
        "\n",
        "\n",
        "def find_correlated_variable(df_num,threshold):\n",
        "  '''\n",
        "  df_num: numerical dataframe\n",
        "  find highly correlated NUMERICAL variables with correlation>threshold'''\n",
        "  cor=df_num.corr()\n",
        "  high_cor_var=[]\n",
        "  threshold=0.8\n",
        "  for i in range(len(cor.columns)):\n",
        "    for j in range(len(cor.columns)):\n",
        "       if i>j and abs(cor.iloc[i,j])>threshold:\n",
        "           high_cor_var.append((cor.columns[i],cor.columns[j],cor.iloc[i, j]))\n",
        "  return high_cor_var\n",
        "\n",
        "\n",
        "def undersampling(df):\n",
        "  no=df[df['y']==0]\n",
        "  yes=df[df['y']==1]\n",
        "\n",
        "  no_undersampled=resample(no,replace=False,n_samples=len(yes),random_state=123)\n",
        "\n",
        "  df= pd.concat([no_undersampled,yes])\n",
        "  return df"
      ]
    },
    {
      "cell_type": "markdown",
      "metadata": {
        "id": "uJ7_1DPpPvzX"
      },
      "source": []
    },
    {
      "cell_type": "code",
      "execution_count": null,
      "metadata": {
        "colab": {
          "base_uri": "https://localhost:8080/",
          "height": 256
        },
        "id": "9rAPaLkLn4fN",
        "outputId": "4435ee6b-ad1b-4b54-e3d4-bf870b194944"
      },
      "outputs": [
        {
          "data": {
            "text/html": [
              "<div>\n",
              "<style scoped>\n",
              "    .dataframe tbody tr th:only-of-type {\n",
              "        vertical-align: middle;\n",
              "    }\n",
              "\n",
              "    .dataframe tbody tr th {\n",
              "        vertical-align: top;\n",
              "    }\n",
              "\n",
              "    .dataframe thead th {\n",
              "        text-align: right;\n",
              "    }\n",
              "</style>\n",
              "<table border=\"1\" class=\"dataframe\">\n",
              "  <thead>\n",
              "    <tr style=\"text-align: right;\">\n",
              "      <th></th>\n",
              "      <th>age</th>\n",
              "      <th>job</th>\n",
              "      <th>marital</th>\n",
              "      <th>education</th>\n",
              "      <th>default</th>\n",
              "      <th>housing</th>\n",
              "      <th>loan</th>\n",
              "      <th>contact</th>\n",
              "      <th>month</th>\n",
              "      <th>day_of_week</th>\n",
              "      <th>...</th>\n",
              "      <th>campaign</th>\n",
              "      <th>pdays</th>\n",
              "      <th>previous</th>\n",
              "      <th>poutcome</th>\n",
              "      <th>emp.var.rate</th>\n",
              "      <th>cons.price.idx</th>\n",
              "      <th>cons.conf.idx</th>\n",
              "      <th>euribor3m</th>\n",
              "      <th>nr.employed</th>\n",
              "      <th>y</th>\n",
              "    </tr>\n",
              "  </thead>\n",
              "  <tbody>\n",
              "    <tr>\n",
              "      <th>0</th>\n",
              "      <td>56</td>\n",
              "      <td>housemaid</td>\n",
              "      <td>married</td>\n",
              "      <td>basic.4y</td>\n",
              "      <td>no</td>\n",
              "      <td>no</td>\n",
              "      <td>no</td>\n",
              "      <td>telephone</td>\n",
              "      <td>may</td>\n",
              "      <td>mon</td>\n",
              "      <td>...</td>\n",
              "      <td>1</td>\n",
              "      <td>999</td>\n",
              "      <td>0</td>\n",
              "      <td>nonexistent</td>\n",
              "      <td>1.1</td>\n",
              "      <td>93.994</td>\n",
              "      <td>-36.4</td>\n",
              "      <td>4.857</td>\n",
              "      <td>5191.0</td>\n",
              "      <td>no</td>\n",
              "    </tr>\n",
              "    <tr>\n",
              "      <th>1</th>\n",
              "      <td>57</td>\n",
              "      <td>services</td>\n",
              "      <td>married</td>\n",
              "      <td>high.school</td>\n",
              "      <td>unknown</td>\n",
              "      <td>no</td>\n",
              "      <td>no</td>\n",
              "      <td>telephone</td>\n",
              "      <td>may</td>\n",
              "      <td>mon</td>\n",
              "      <td>...</td>\n",
              "      <td>1</td>\n",
              "      <td>999</td>\n",
              "      <td>0</td>\n",
              "      <td>nonexistent</td>\n",
              "      <td>1.1</td>\n",
              "      <td>93.994</td>\n",
              "      <td>-36.4</td>\n",
              "      <td>4.857</td>\n",
              "      <td>5191.0</td>\n",
              "      <td>no</td>\n",
              "    </tr>\n",
              "    <tr>\n",
              "      <th>2</th>\n",
              "      <td>37</td>\n",
              "      <td>services</td>\n",
              "      <td>married</td>\n",
              "      <td>high.school</td>\n",
              "      <td>no</td>\n",
              "      <td>yes</td>\n",
              "      <td>no</td>\n",
              "      <td>telephone</td>\n",
              "      <td>may</td>\n",
              "      <td>mon</td>\n",
              "      <td>...</td>\n",
              "      <td>1</td>\n",
              "      <td>999</td>\n",
              "      <td>0</td>\n",
              "      <td>nonexistent</td>\n",
              "      <td>1.1</td>\n",
              "      <td>93.994</td>\n",
              "      <td>-36.4</td>\n",
              "      <td>4.857</td>\n",
              "      <td>5191.0</td>\n",
              "      <td>no</td>\n",
              "    </tr>\n",
              "    <tr>\n",
              "      <th>3</th>\n",
              "      <td>40</td>\n",
              "      <td>admin.</td>\n",
              "      <td>married</td>\n",
              "      <td>basic.6y</td>\n",
              "      <td>no</td>\n",
              "      <td>no</td>\n",
              "      <td>no</td>\n",
              "      <td>telephone</td>\n",
              "      <td>may</td>\n",
              "      <td>mon</td>\n",
              "      <td>...</td>\n",
              "      <td>1</td>\n",
              "      <td>999</td>\n",
              "      <td>0</td>\n",
              "      <td>nonexistent</td>\n",
              "      <td>1.1</td>\n",
              "      <td>93.994</td>\n",
              "      <td>-36.4</td>\n",
              "      <td>4.857</td>\n",
              "      <td>5191.0</td>\n",
              "      <td>no</td>\n",
              "    </tr>\n",
              "    <tr>\n",
              "      <th>4</th>\n",
              "      <td>56</td>\n",
              "      <td>services</td>\n",
              "      <td>married</td>\n",
              "      <td>high.school</td>\n",
              "      <td>no</td>\n",
              "      <td>no</td>\n",
              "      <td>yes</td>\n",
              "      <td>telephone</td>\n",
              "      <td>may</td>\n",
              "      <td>mon</td>\n",
              "      <td>...</td>\n",
              "      <td>1</td>\n",
              "      <td>999</td>\n",
              "      <td>0</td>\n",
              "      <td>nonexistent</td>\n",
              "      <td>1.1</td>\n",
              "      <td>93.994</td>\n",
              "      <td>-36.4</td>\n",
              "      <td>4.857</td>\n",
              "      <td>5191.0</td>\n",
              "      <td>no</td>\n",
              "    </tr>\n",
              "  </tbody>\n",
              "</table>\n",
              "<p>5 rows × 21 columns</p>\n",
              "</div>"
            ],
            "text/plain": [
              "   age        job  marital    education  default housing loan    contact  \\\n",
              "0   56  housemaid  married     basic.4y       no      no   no  telephone   \n",
              "1   57   services  married  high.school  unknown      no   no  telephone   \n",
              "2   37   services  married  high.school       no     yes   no  telephone   \n",
              "3   40     admin.  married     basic.6y       no      no   no  telephone   \n",
              "4   56   services  married  high.school       no      no  yes  telephone   \n",
              "\n",
              "  month day_of_week  ...  campaign  pdays  previous     poutcome emp.var.rate  \\\n",
              "0   may         mon  ...         1    999         0  nonexistent          1.1   \n",
              "1   may         mon  ...         1    999         0  nonexistent          1.1   \n",
              "2   may         mon  ...         1    999         0  nonexistent          1.1   \n",
              "3   may         mon  ...         1    999         0  nonexistent          1.1   \n",
              "4   may         mon  ...         1    999         0  nonexistent          1.1   \n",
              "\n",
              "   cons.price.idx  cons.conf.idx  euribor3m  nr.employed   y  \n",
              "0          93.994          -36.4      4.857       5191.0  no  \n",
              "1          93.994          -36.4      4.857       5191.0  no  \n",
              "2          93.994          -36.4      4.857       5191.0  no  \n",
              "3          93.994          -36.4      4.857       5191.0  no  \n",
              "4          93.994          -36.4      4.857       5191.0  no  \n",
              "\n",
              "[5 rows x 21 columns]"
            ]
          },
          "execution_count": 30,
          "metadata": {},
          "output_type": "execute_result"
        }
      ],
      "source": [
        "df=pd.read_csv('./term deposit data.csv',delimiter=\";\")\n",
        "df.head()"
      ]
    },
    {
      "cell_type": "code",
      "execution_count": null,
      "metadata": {
        "colab": {
          "base_uri": "https://localhost:8080/",
          "height": 826
        },
        "id": "2sq9f-FLrYVX",
        "outputId": "c5781e01-c7ae-42a8-bae2-1ac199ff00e9"
      },
      "outputs": [
        {
          "data": {
            "text/html": [
              "<div>\n",
              "<style scoped>\n",
              "    .dataframe tbody tr th:only-of-type {\n",
              "        vertical-align: middle;\n",
              "    }\n",
              "\n",
              "    .dataframe tbody tr th {\n",
              "        vertical-align: top;\n",
              "    }\n",
              "\n",
              "    .dataframe thead th {\n",
              "        text-align: right;\n",
              "    }\n",
              "</style>\n",
              "<table border=\"1\" class=\"dataframe\">\n",
              "  <thead>\n",
              "    <tr style=\"text-align: right;\">\n",
              "      <th></th>\n",
              "      <th>education</th>\n",
              "      <th>proportion</th>\n",
              "    </tr>\n",
              "  </thead>\n",
              "  <tbody>\n",
              "    <tr>\n",
              "      <th>0</th>\n",
              "      <td>basic.4y</td>\n",
              "      <td>0.102490</td>\n",
              "    </tr>\n",
              "    <tr>\n",
              "      <th>1</th>\n",
              "      <td>basic.6y</td>\n",
              "      <td>0.082024</td>\n",
              "    </tr>\n",
              "    <tr>\n",
              "      <th>2</th>\n",
              "      <td>basic.9y</td>\n",
              "      <td>0.078246</td>\n",
              "    </tr>\n",
              "    <tr>\n",
              "      <th>3</th>\n",
              "      <td>high.school</td>\n",
              "      <td>0.108355</td>\n",
              "    </tr>\n",
              "    <tr>\n",
              "      <th>4</th>\n",
              "      <td>illiterate</td>\n",
              "      <td>0.222222</td>\n",
              "    </tr>\n",
              "    <tr>\n",
              "      <th>5</th>\n",
              "      <td>professional.course</td>\n",
              "      <td>0.113485</td>\n",
              "    </tr>\n",
              "    <tr>\n",
              "      <th>6</th>\n",
              "      <td>university.degree</td>\n",
              "      <td>0.137245</td>\n",
              "    </tr>\n",
              "    <tr>\n",
              "      <th>7</th>\n",
              "      <td>unknown</td>\n",
              "      <td>0.145003</td>\n",
              "    </tr>\n",
              "  </tbody>\n",
              "</table>\n",
              "</div>"
            ],
            "text/plain": [
              "             education  proportion\n",
              "0             basic.4y    0.102490\n",
              "1             basic.6y    0.082024\n",
              "2             basic.9y    0.078246\n",
              "3          high.school    0.108355\n",
              "4           illiterate    0.222222\n",
              "5  professional.course    0.113485\n",
              "6    university.degree    0.137245\n",
              "7              unknown    0.145003"
            ]
          },
          "execution_count": 4,
          "metadata": {},
          "output_type": "execute_result"
        },
        {
          "data": {
            "image/png": "[encoded data removed]",
            "text/plain": [
              "<Figure size 640x480 with 1 Axes>"
            ]
          },
          "metadata": {},
          "output_type": "display_data"
        }
      ],
      "source": [
        "base_conversion_rate=(df['y']=='yes').sum()/df.shape[0]\n",
        "conversion_rate_by_cat('education')"
      ]
    },
    {
      "cell_type": "code",
      "execution_count": null,
      "metadata": {
        "colab": {
          "base_uri": "https://localhost:8080/",
          "height": 926
        },
        "id": "pLOEBwJ36YP7",
        "outputId": "d3768828-710d-4c80-9b7f-4af7ce8a8114"
      },
      "outputs": [
        {
          "data": {
            "text/html": [
              "<div>\n",
              "<style scoped>\n",
              "    .dataframe tbody tr th:only-of-type {\n",
              "        vertical-align: middle;\n",
              "    }\n",
              "\n",
              "    .dataframe tbody tr th {\n",
              "        vertical-align: top;\n",
              "    }\n",
              "\n",
              "    .dataframe thead th {\n",
              "        text-align: right;\n",
              "    }\n",
              "</style>\n",
              "<table border=\"1\" class=\"dataframe\">\n",
              "  <thead>\n",
              "    <tr style=\"text-align: right;\">\n",
              "      <th></th>\n",
              "      <th>job</th>\n",
              "      <th>proportion</th>\n",
              "    </tr>\n",
              "  </thead>\n",
              "  <tbody>\n",
              "    <tr>\n",
              "      <th>0</th>\n",
              "      <td>admin.</td>\n",
              "      <td>0.129726</td>\n",
              "    </tr>\n",
              "    <tr>\n",
              "      <th>1</th>\n",
              "      <td>blue-collar</td>\n",
              "      <td>0.068943</td>\n",
              "    </tr>\n",
              "    <tr>\n",
              "      <th>2</th>\n",
              "      <td>entrepreneur</td>\n",
              "      <td>0.085165</td>\n",
              "    </tr>\n",
              "    <tr>\n",
              "      <th>3</th>\n",
              "      <td>housemaid</td>\n",
              "      <td>0.100000</td>\n",
              "    </tr>\n",
              "    <tr>\n",
              "      <th>4</th>\n",
              "      <td>management</td>\n",
              "      <td>0.112175</td>\n",
              "    </tr>\n",
              "    <tr>\n",
              "      <th>5</th>\n",
              "      <td>retired</td>\n",
              "      <td>0.252326</td>\n",
              "    </tr>\n",
              "    <tr>\n",
              "      <th>6</th>\n",
              "      <td>self-employed</td>\n",
              "      <td>0.104856</td>\n",
              "    </tr>\n",
              "    <tr>\n",
              "      <th>7</th>\n",
              "      <td>services</td>\n",
              "      <td>0.081381</td>\n",
              "    </tr>\n",
              "    <tr>\n",
              "      <th>8</th>\n",
              "      <td>student</td>\n",
              "      <td>0.314286</td>\n",
              "    </tr>\n",
              "    <tr>\n",
              "      <th>9</th>\n",
              "      <td>technician</td>\n",
              "      <td>0.108260</td>\n",
              "    </tr>\n",
              "    <tr>\n",
              "      <th>10</th>\n",
              "      <td>unemployed</td>\n",
              "      <td>0.142012</td>\n",
              "    </tr>\n",
              "    <tr>\n",
              "      <th>11</th>\n",
              "      <td>unknown</td>\n",
              "      <td>0.112121</td>\n",
              "    </tr>\n",
              "  </tbody>\n",
              "</table>\n",
              "</div>"
            ],
            "text/plain": [
              "              job  proportion\n",
              "0          admin.    0.129726\n",
              "1     blue-collar    0.068943\n",
              "2    entrepreneur    0.085165\n",
              "3       housemaid    0.100000\n",
              "4      management    0.112175\n",
              "5         retired    0.252326\n",
              "6   self-employed    0.104856\n",
              "7        services    0.081381\n",
              "8         student    0.314286\n",
              "9      technician    0.108260\n",
              "10     unemployed    0.142012\n",
              "11        unknown    0.112121"
            ]
          },
          "execution_count": 5,
          "metadata": {},
          "output_type": "execute_result"
        },
        {
          "data": {
            "image/png": "[encoded data removed]",
            "text/plain": [
              "<Figure size 640x480 with 1 Axes>"
            ]
          },
          "metadata": {},
          "output_type": "display_data"
        }
      ],
      "source": [
        "conversion_rate_by_cat('job')"
      ]
    },
    {
      "cell_type": "code",
      "execution_count": null,
      "metadata": {
        "colab": {
          "base_uri": "https://localhost:8080/",
          "height": 816
        },
        "id": "bhwqTplP9Lr4",
        "outputId": "be0f7888-9acf-4b1d-a7e0-511343b92b7e"
      },
      "outputs": [
        {
          "data": {
            "text/html": [
              "<div>\n",
              "<style scoped>\n",
              "    .dataframe tbody tr th:only-of-type {\n",
              "        vertical-align: middle;\n",
              "    }\n",
              "\n",
              "    .dataframe tbody tr th {\n",
              "        vertical-align: top;\n",
              "    }\n",
              "\n",
              "    .dataframe thead th {\n",
              "        text-align: right;\n",
              "    }\n",
              "</style>\n",
              "<table border=\"1\" class=\"dataframe\">\n",
              "  <thead>\n",
              "    <tr style=\"text-align: right;\">\n",
              "      <th></th>\n",
              "      <th>month</th>\n",
              "      <th>proportion</th>\n",
              "    </tr>\n",
              "  </thead>\n",
              "  <tbody>\n",
              "    <tr>\n",
              "      <th>0</th>\n",
              "      <td>apr</td>\n",
              "      <td>0.204787</td>\n",
              "    </tr>\n",
              "    <tr>\n",
              "      <th>1</th>\n",
              "      <td>aug</td>\n",
              "      <td>0.106021</td>\n",
              "    </tr>\n",
              "    <tr>\n",
              "      <th>2</th>\n",
              "      <td>dec</td>\n",
              "      <td>0.489011</td>\n",
              "    </tr>\n",
              "    <tr>\n",
              "      <th>3</th>\n",
              "      <td>jul</td>\n",
              "      <td>0.090466</td>\n",
              "    </tr>\n",
              "    <tr>\n",
              "      <th>4</th>\n",
              "      <td>jun</td>\n",
              "      <td>0.105115</td>\n",
              "    </tr>\n",
              "    <tr>\n",
              "      <th>5</th>\n",
              "      <td>mar</td>\n",
              "      <td>0.505495</td>\n",
              "    </tr>\n",
              "    <tr>\n",
              "      <th>6</th>\n",
              "      <td>may</td>\n",
              "      <td>0.064347</td>\n",
              "    </tr>\n",
              "    <tr>\n",
              "      <th>7</th>\n",
              "      <td>nov</td>\n",
              "      <td>0.101439</td>\n",
              "    </tr>\n",
              "    <tr>\n",
              "      <th>8</th>\n",
              "      <td>oct</td>\n",
              "      <td>0.438719</td>\n",
              "    </tr>\n",
              "    <tr>\n",
              "      <th>9</th>\n",
              "      <td>sep</td>\n",
              "      <td>0.449123</td>\n",
              "    </tr>\n",
              "  </tbody>\n",
              "</table>\n",
              "</div>"
            ],
            "text/plain": [
              "  month  proportion\n",
              "0   apr    0.204787\n",
              "1   aug    0.106021\n",
              "2   dec    0.489011\n",
              "3   jul    0.090466\n",
              "4   jun    0.105115\n",
              "5   mar    0.505495\n",
              "6   may    0.064347\n",
              "7   nov    0.101439\n",
              "8   oct    0.438719\n",
              "9   sep    0.449123"
            ]
          },
          "execution_count": 6,
          "metadata": {},
          "output_type": "execute_result"
        },
        {
          "data": {
            "image/png": "[encoded data removed]",
            "text/plain": [
              "<Figure size 640x480 with 1 Axes>"
            ]
          },
          "metadata": {},
          "output_type": "display_data"
        }
      ],
      "source": [
        "conversion_rate_by_cat('month')"
      ]
    },
    {
      "cell_type": "code",
      "execution_count": null,
      "metadata": {
        "id": "dUKzb2zDAXDE",
        "outputId": "3359d307-f579-4872-b825-656d3b1dfc78"
      },
      "outputs": [
        {
          "data": {
            "text/html": [
              "<div>\n",
              "<style scoped>\n",
              "    .dataframe tbody tr th:only-of-type {\n",
              "        vertical-align: middle;\n",
              "    }\n",
              "\n",
              "    .dataframe tbody tr th {\n",
              "        vertical-align: top;\n",
              "    }\n",
              "\n",
              "    .dataframe thead th {\n",
              "        text-align: right;\n",
              "    }\n",
              "</style>\n",
              "<table border=\"1\" class=\"dataframe\">\n",
              "  <thead>\n",
              "    <tr style=\"text-align: right;\">\n",
              "      <th></th>\n",
              "      <th>housing</th>\n",
              "      <th>proportion</th>\n",
              "    </tr>\n",
              "  </thead>\n",
              "  <tbody>\n",
              "    <tr>\n",
              "      <th>0</th>\n",
              "      <td>no</td>\n",
              "      <td>0.108796</td>\n",
              "    </tr>\n",
              "    <tr>\n",
              "      <th>1</th>\n",
              "      <td>unknown</td>\n",
              "      <td>0.108081</td>\n",
              "    </tr>\n",
              "    <tr>\n",
              "      <th>2</th>\n",
              "      <td>yes</td>\n",
              "      <td>0.116194</td>\n",
              "    </tr>\n",
              "  </tbody>\n",
              "</table>\n",
              "</div>"
            ],
            "text/plain": [
              "   housing  proportion\n",
              "0       no    0.108796\n",
              "1  unknown    0.108081\n",
              "2      yes    0.116194"
            ]
          },
          "execution_count": 33,
          "metadata": {},
          "output_type": "execute_result"
        },
        {
          "data": {
            "image/png": "[encoded data removed]",
            "text/plain": [
              "<Figure size 640x480 with 1 Axes>"
            ]
          },
          "metadata": {},
          "output_type": "display_data"
        }
      ],
      "source": [
        "conversion_rate_by_cat('housing')"
      ]
    },
    {
      "cell_type": "code",
      "execution_count": null,
      "metadata": {
        "colab": {
          "base_uri": "https://localhost:8080/"
        },
        "id": "lRjjfxlN_6cs",
        "outputId": "38d62c06-6fba-45bc-e5d7-b6861a46689c"
      },
      "outputs": [
        {
          "data": {
            "text/plain": [
              "array(['may', 'jun', 'jul', 'aug', 'oct', 'nov', 'dec', 'mar', 'apr',\n",
              "       'sep'], dtype=object)"
            ]
          },
          "execution_count": 7,
          "metadata": {},
          "output_type": "execute_result"
        }
      ],
      "source": [
        "df['month'].unique()"
      ]
    },
    {
      "cell_type": "code",
      "execution_count": null,
      "metadata": {
        "colab": {
          "base_uri": "https://localhost:8080/",
          "height": 723
        },
        "id": "IEWJTqFz9c_Z",
        "outputId": "ca17d14d-5a8d-480f-b889-e8c3cd3f07cd"
      },
      "outputs": [
        {
          "name": "stdout",
          "output_type": "stream",
          "text": [
            "y         no  yes\n",
            "month            \n",
            "mar      270  276\n",
            "apr     2093  539\n",
            "may    12883  886\n",
            "jun     4759  559\n",
            "jul     6525  649\n",
            "aug     5523  655\n",
            "sep      314  256\n",
            "oct      403  315\n",
            "nov     3685  416\n",
            "dec       93   89\n"
          ]
        },
        {
          "data": {
            "image/png": "[encoded data removed]",
            "text/plain": [
              "<Figure size 640x480 with 1 Axes>"
            ]
          },
          "metadata": {},
          "output_type": "display_data"
        }
      ],
      "source": [
        "month=df.groupby(['month','y']).size().unstack()\n",
        "month_order = ['mar','apr','may','jun','jul','aug','sep','oct','nov','dec']\n",
        "month_oredered = month.reindex(month_order)\n",
        "print(month_oredered)\n",
        "month_oredered.plot(kind='bar',stacked=True,color=['skyblue','salmon'])\n",
        "plt.tight_layout()\n",
        "plt.title('months vs y')\n",
        "plt.show()"
      ]
    },
    {
      "cell_type": "code",
      "execution_count": null,
      "metadata": {
        "id": "LxQQijWNBB8G"
      },
      "outputs": [],
      "source": [
        "#substitute missing values by mode\n",
        "\n",
        "##job and education\n",
        "for i in ['job','education','marital']:\n",
        "    df[i].value_counts()\n",
        "    mode=df[df[i]!='unkown'][i].mode()\n",
        "    df[i] = df[i].replace('unknown', mode[0])\n",
        "\n"
      ]
    },
    {
      "cell_type": "code",
      "execution_count": null,
      "metadata": {
        "id": "QroY7f_W3n8R"
      },
      "outputs": [],
      "source": [
        "y=df.pop(\"y\")\n",
        "mapping={'yes':1,'no':0}\n",
        "y=y.map(mapping)\n",
        "#numerical vars: remove correlated var\n",
        "df_num=df.select_dtypes(include=['number'])\n",
        "\n",
        "find_correlated_variable(df_num,0.8)\n",
        "df_uncor=df_num.drop(columns=[\"emp.var.rate\",\"nr.employed\"])"
      ]
    },
    {
      "cell_type": "code",
      "execution_count": null,
      "metadata": {
        "id": "zL1guyOo3yVH"
      },
      "outputs": [],
      "source": [
        "#categorical vars: one hot encoding\n",
        "#transform education\n",
        "df_cat=df.select_dtypes(include='object')\n",
        "\n",
        "def map_edu(edu):\n",
        "  if 'basic' in edu:\n",
        "    return 'basic'\n",
        "  elif 'professional' in edu or 'university.degree' in edu:\n",
        "    return 'university'\n",
        "  else:\n",
        "    return edu\n",
        "df_cat['education']=df_cat['education'].map(map_edu)\n",
        "\n",
        "df_cat=pd.get_dummies(df_cat)\n",
        "df2=pd.concat([df_uncor,df_cat],axis=1)"
      ]
    },
    {
      "cell_type": "code",
      "execution_count": null,
      "metadata": {
        "id": "t4gA9aRIzuSW"
      },
      "outputs": [],
      "source": [
        "#test train split - performs better only using df_num\n",
        "X_train,X_test,y_train,y_test=train_test_split(df2,y,test_size=0.2,random_state=123)\n",
        "Xy_train=pd.concat([X_train,y_train],axis=1)\n",
        "undersampled_Xy_train = undersampling(Xy_train)\n",
        "undersampled_y_train=undersampled_Xy_train.pop('y')\n",
        "undersampled_X_train=undersampled_Xy_train"
      ]
    },
    {
      "cell_type": "markdown",
      "metadata": {
        "id": "8ToPizNM7Kr0"
      },
      "source": [
        "## Logistic Regression\n",
        "1. undersampled logistic regression\n",
        "2. original logistic regression"
      ]
    },
    {
      "cell_type": "code",
      "execution_count": null,
      "metadata": {
        "colab": {
          "base_uri": "https://localhost:8080/"
        },
        "id": "xi28yLmt1e4j",
        "outputId": "ddffac65-3ce4-48e4-94d4-bb1015ece84b"
      },
      "outputs": [
        {
          "name": "stdout",
          "output_type": "stream",
          "text": [
            "[[6153 1145]\n",
            " [ 120  820]]\n",
            "              precision    recall  f1-score   support\n",
            "\n",
            "           0       0.98      0.84      0.91      7298\n",
            "           1       0.42      0.87      0.56       940\n",
            "\n",
            "    accuracy                           0.85      8238\n",
            "   macro avg       0.70      0.86      0.74      8238\n",
            "weighted avg       0.92      0.85      0.87      8238\n",
            "\n"
          ]
        },
        {
          "name": "stderr",
          "output_type": "stream",
          "text": [
            "/opt/anaconda3/lib/python3.12/site-packages/sklearn/linear_model/_logistic.py:469: ConvergenceWarning: lbfgs failed to converge (status=1):\n",
            "STOP: TOTAL NO. of ITERATIONS REACHED LIMIT.\n",
            "\n",
            "Increase the number of iterations (max_iter) or scale the data as shown in:\n",
            "    https://scikit-learn.org/stable/modules/preprocessing.html\n",
            "Please also refer to the documentation for alternative solver options:\n",
            "    https://scikit-learn.org/stable/modules/linear_model.html#logistic-regression\n",
            "  n_iter_i = _check_optimize_result(\n"
          ]
        }
      ],
      "source": [
        "logreg_under = LogisticRegression(random_state=123)\n",
        "logreg_under.fit(undersampled_X_train, undersampled_y_train)\n",
        "y_pred=logreg_under.predict(X_test)\n",
        "\n",
        "cm_undersampled_logi=metrics.confusion_matrix(y_test,y_pred)\n",
        "report_undersampled_logi=classification_report(y_test,y_pred)\n",
        "print(cm_undersampled_logi)\n",
        "print(report_undersampled_logi)"
      ]
    },
    {
      "cell_type": "markdown",
      "metadata": {
        "id": "-g60J3MMzQwp"
      },
      "source": []
    },
    {
      "cell_type": "code",
      "execution_count": null,
      "metadata": {
        "colab": {
          "base_uri": "https://localhost:8080/"
        },
        "id": "noywtl_84cIC",
        "outputId": "011b5113-e97e-41ab-bf3c-8420f4a6d14a"
      },
      "outputs": [
        {
          "name": "stdout",
          "output_type": "stream",
          "text": [
            "[[7144  154]\n",
            " [ 568  372]]\n",
            "              precision    recall  f1-score   support\n",
            "\n",
            "           0       0.93      0.98      0.95      7298\n",
            "           1       0.71      0.40      0.51       940\n",
            "\n",
            "    accuracy                           0.91      8238\n",
            "   macro avg       0.82      0.69      0.73      8238\n",
            "weighted avg       0.90      0.91      0.90      8238\n",
            "\n"
          ]
        },
        {
          "name": "stderr",
          "output_type": "stream",
          "text": [
            "/opt/anaconda3/lib/python3.12/site-packages/sklearn/linear_model/_logistic.py:469: ConvergenceWarning: lbfgs failed to converge (status=1):\n",
            "STOP: TOTAL NO. of ITERATIONS REACHED LIMIT.\n",
            "\n",
            "Increase the number of iterations (max_iter) or scale the data as shown in:\n",
            "    https://scikit-learn.org/stable/modules/preprocessing.html\n",
            "Please also refer to the documentation for alternative solver options:\n",
            "    https://scikit-learn.org/stable/modules/linear_model.html#logistic-regression\n",
            "  n_iter_i = _check_optimize_result(\n"
          ]
        }
      ],
      "source": [
        "logreg = LogisticRegression(random_state=123)\n",
        "logreg.fit(X_train, y_train)\n",
        "y_pred=logreg.predict(X_test)\n",
        "\n",
        "cm_logi=metrics.confusion_matrix(y_test,y_pred)\n",
        "report_logi=classification_report(y_test,y_pred)\n",
        "print(cm_logi)\n",
        "print(report_logi)"
      ]
    },
    {
      "cell_type": "markdown",
      "metadata": {
        "id": "AMFw0V4K7X3B"
      },
      "source": [
        "## Random Forest\n",
        "1. plain rf\n",
        "2. rf via grid search"
      ]
    },
    {
      "cell_type": "code",
      "execution_count": null,
      "metadata": {
        "id": "y4GdMUYD7ntC"
      },
      "outputs": [],
      "source": [
        "from scipy.stats import randint\n",
        "from sklearn.ensemble import RandomForestClassifier\n",
        "from sklearn.model_selection import RandomizedSearchCV\n",
        "\n",
        "from sklearn.model_selection import GridSearchCV"
      ]
    },
    {
      "cell_type": "code",
      "execution_count": null,
      "metadata": {
        "colab": {
          "base_uri": "https://localhost:8080/"
        },
        "id": "vXgSbnoy6z9X",
        "outputId": "71e99f08-b669-48ad-91c8-ec5884b9f27b"
      },
      "outputs": [
        {
          "name": "stdout",
          "output_type": "stream",
          "text": [
            "[[7058  240]\n",
            " [ 486  454]]\n",
            "0.9118718135469774\n",
            "              precision    recall  f1-score   support\n",
            "\n",
            "           0       0.94      0.97      0.95      7298\n",
            "           1       0.65      0.48      0.56       940\n",
            "\n",
            "    accuracy                           0.91      8238\n",
            "   macro avg       0.79      0.73      0.75      8238\n",
            "weighted avg       0.90      0.91      0.91      8238\n",
            "\n"
          ]
        }
      ],
      "source": [
        "rf = RandomForestClassifier(random_state=123)\n",
        "\n",
        "rf.fit(X_train, y_train)\n",
        "\n",
        "y_pred = rf.predict(X_test)\n",
        "#metrics\n",
        "##cm\n",
        "cm = confusion_matrix(y_test, y_pred)\n",
        "print(cm)\n",
        "\n",
        "accuracy = accuracy_score(y_test, y_pred)#not important\n",
        "print(accuracy)\n",
        "\n",
        "report = classification_report(y_test, y_pred)\n",
        "print(report)"
      ]
    },
    {
      "cell_type": "code",
      "execution_count": null,
      "metadata": {
        "colab": {
          "base_uri": "https://localhost:8080/",
          "height": 472
        },
        "id": "SEnn1RZB7s_a",
        "outputId": "5ad50dc9-4be2-4477-bd3c-9ae2e7a9607f"
      },
      "outputs": [
        {
          "data": {
            "image/png": "[encoded data removed]",
            "text/plain": [
              "<Figure size 640x480 with 1 Axes>"
            ]
          },
          "metadata": {},
          "output_type": "display_data"
        }
      ],
      "source": [
        "y_prob = rf.predict_proba(X_test)[:, 1]\n",
        "fpr, tpr, thresholds = roc_curve(y_test, y_prob)\n",
        "roc_auc = roc_auc_score(y_test, y_prob)\n",
        "\n",
        "plt.figure()\n",
        "plt.plot(fpr, tpr, color='orange', lw=2, label='ROC curve (AUC = {:.2f})'.format(roc_auc))\n",
        "plt.plot([0, 1], [0, 1], color='navy', lw=2, linestyle='--')\n",
        "plt.xlabel('FPR')\n",
        "plt.ylabel('TPR')\n",
        "plt.title('ROC Curve')\n",
        "plt.legend(loc=\"lower right\")\n",
        "plt.show()"
      ]
    },
    {
      "cell_type": "code",
      "execution_count": null,
      "metadata": {
        "id": "DwWwC9D38BER",
        "outputId": "fc81a0af-e788-44f7-de78-62d5775731b0"
      },
      "outputs": [
        {
          "data": {
            "text/plain": [
              "\"\\nparam_grid={\\n   'max_depth':list(range(10,101,20)),\\n   'max_features':[4,6,8],\\n   'min_samples_leaf':[3,4,5],\\n   'min_samples_split':[5,6,7],\\n   'n_estimators':[100,200]\\n}\\n\\ngrid_search_rf=GridSearchCV(estimator=rf,param_grid=param_grid,cv=5,n_jobs=-1,scoring='f1')#default accuracy\\ngrid_search_rf.fit(X_train,y_train)\\ngrid_search_rf.best_params_\\n\""
            ]
          },
          "execution_count": 18,
          "metadata": {},
          "output_type": "execute_result"
        }
      ],
      "source": [
        "'''\n",
        "param_grid={\n",
        "   'max_depth':list(range(10,101,20)),\n",
        "   'max_features':[4,6,8],\n",
        "   'min_samples_leaf':[3,4,5],\n",
        "   'min_samples_split':[5,6,7],\n",
        "   'n_estimators':[100,200]\n",
        "}\n",
        "\n",
        "grid_search_rf=GridSearchCV(estimator=rf,param_grid=param_grid,cv=5,n_jobs=-1,scoring='f1')#default accuracy\n",
        "grid_search_rf.fit(X_train,y_train)\n",
        "grid_search_rf.best_params_\n",
        "'''"
      ]
    },
    {
      "cell_type": "code",
      "execution_count": null,
      "metadata": {
        "id": "hgulv7ok8PpW"
      },
      "outputs": [],
      "source": [
        "best_rf_param={'max_depth':30,\n",
        " 'max_features':10,\n",
        " 'min_samples_leaf':3,\n",
        " 'min_samples_split':7,\n",
        " 'n_estimators':100}\n",
        "\n",
        "best_rf=RandomForestClassifier(criterion='gini',max_depth=30,max_features=10,min_samples_leaf=3,min_samples_split=7,n_estimators=200)"
      ]
    },
    {
      "cell_type": "code",
      "execution_count": null,
      "metadata": {
        "id": "nMVTTsej8SiP"
      },
      "outputs": [],
      "source": [
        "best_rf.fit(X_train,y_train)\n",
        "best_rf_ypred=best_rf.predict(X_test)"
      ]
    },
    {
      "cell_type": "code",
      "execution_count": null,
      "metadata": {
        "colab": {
          "base_uri": "https://localhost:8080/"
        },
        "id": "o5ZjKUBu8XQU",
        "outputId": "5a35aab2-bb66-4797-b071-158a5e59582e"
      },
      "outputs": [
        {
          "name": "stdout",
          "output_type": "stream",
          "text": [
            "[[7050  248]\n",
            " [ 457  483]]\n",
            "              precision    recall  f1-score   support\n",
            "\n",
            "           0       0.94      0.97      0.95      7298\n",
            "           1       0.66      0.51      0.58       940\n",
            "\n",
            "    accuracy                           0.91      8238\n",
            "   macro avg       0.80      0.74      0.77      8238\n",
            "weighted avg       0.91      0.91      0.91      8238\n",
            "\n"
          ]
        }
      ],
      "source": [
        "cm=confusion_matrix(y_test,best_rf_ypred)\n",
        "print(cm)\n",
        "\n",
        "\n",
        "report=classification_report(y_test,best_rf_ypred)\n",
        "print(report)"
      ]
    },
    {
      "cell_type": "code",
      "execution_count": null,
      "metadata": {
        "colab": {
          "base_uri": "https://localhost:8080/",
          "height": 487
        },
        "id": "csbAluJJ8bJz",
        "outputId": "a269702f-e5e6-4dc8-d368-752f8ca02812"
      },
      "outputs": [
        {
          "data": {
            "image/png": "[encoded data removed]",
            "text/plain": [
              "<Figure size 640x480 with 1 Axes>"
            ]
          },
          "metadata": {},
          "output_type": "display_data"
        }
      ],
      "source": [
        "feature_importance = best_rf.feature_importances_[0:10]\n",
        "\n",
        "feature_names = X_train.columns\n",
        "sorted_idx = np.argsort(feature_importance)\n",
        "pos = np.arange(sorted_idx.shape[0]) + .5\n",
        "\n",
        "plt.figure()\n",
        "plt.barh(pos,feature_importance[sorted_idx], align='center')\n",
        "plt.yticks(pos,feature_names[sorted_idx])\n",
        "plt.xlabel('Feature Importance')\n",
        "plt.title('Top 10 Feature Importance (Random Forest)')\n",
        "plt.tight_layout()\n",
        "plt.show()\n"
      ]
    },
    {
      "cell_type": "code",
      "execution_count": null,
      "metadata": {
        "id": "RFU1m6Np84WT"
      },
      "outputs": [],
      "source": [
        "\n",
        "\n",
        "\n"
      ]
    },
    {
      "cell_type": "markdown",
      "metadata": {
        "id": "vm-brmdCAXDJ"
      },
      "source": [
        "## XGB"
      ]
    },
    {
      "cell_type": "code",
      "execution_count": null,
      "metadata": {
        "colab": {
          "base_uri": "https://localhost:8080/"
        },
        "id": "kiFPa1EGCBHn",
        "outputId": "effc4d0a-87bb-4e64-ea0c-49bbe47b408a"
      },
      "outputs": [
        {
          "name": "stdout",
          "output_type": "stream",
          "text": [
            "[[6970  328]\n",
            " [ 421  519]]\n",
            "              precision    recall  f1-score   support\n",
            "\n",
            "           0       0.94      0.96      0.95      7298\n",
            "           1       0.61      0.55      0.58       940\n",
            "\n",
            "    accuracy                           0.91      8238\n",
            "   macro avg       0.78      0.75      0.76      8238\n",
            "weighted avg       0.91      0.91      0.91      8238\n",
            "\n"
          ]
        }
      ],
      "source": [
        "from xgboost import XGBClassifier\n",
        "\n",
        "xgb=XGBClassifier(random_state=123)\n",
        "xgb.fit(X_train,y_train)\n",
        "y_pred=xgb.predict(X_test)\n",
        "\n",
        "cm=confusion_matrix(y_test,y_pred)\n",
        "print(cm)\n",
        "\n",
        "report = classification_report(y_test, y_pred)\n",
        "print(report)"
      ]
    },
    {
      "cell_type": "code",
      "execution_count": null,
      "metadata": {
        "colab": {
          "base_uri": "https://localhost:8080/"
        },
        "id": "Y1j1N1IrEVcZ",
        "outputId": "3e4688ad-ceb5-4306-b532-941d83de0f22"
      },
      "outputs": [
        {
          "name": "stdout",
          "output_type": "stream",
          "text": [
            "Fitting 4 folds for each of 18 candidates, totalling 72 fits\n"
          ]
        }
      ],
      "source": [
        "param_grid={'n_estimators':[100,200],\n",
        "    'max_depth':[3,6,9],\n",
        "    'learning_rate':[0.01,0.1, 0.2]}\n",
        " #   'subsample':[0.8,0.9,1.0],\n",
        " #   'colsample_bytree':[0.8,0.9,1.0]\n",
        "\n",
        "\n",
        "xgb = XGBClassifier(eval_metric='mlogloss', random_state=123)\n",
        "# Set up GridSearchCV\n",
        "grid_search=GridSearchCV(\n",
        "    estimator=xgb,\n",
        "    param_grid=param_grid,\n",
        "    scoring='accuracy',#####!!!\n",
        "    cv=4,  # Number of cross-validation folds\n",
        "    verbose=1,\n",
        "    n_jobs=-1  # Use all available cores\n",
        ")\n",
        "\n",
        "# Fit GridSearchCV\n",
        "grid_search.fit(X_train,y_train)\n",
        "\n",
        "# Get the best parameters and best score\n",
        "best_params=grid_search.best_params_\n",
        "best_score=grid_search.best_score_"
      ]
    },
    {
      "cell_type": "code",
      "execution_count": null,
      "metadata": {
        "id": "_n9dS0-OFelI"
      },
      "outputs": [],
      "source": [
        "#best parameters and cv score\n",
        "best_params=grid_search.best_params_\n",
        "best_score=grid_search.best_score_\n",
        "\n",
        "best_xgb=grid_search.best_estimator_\n",
        "y_pred=best_xgb.predict(X_test)\n",
        "accuracy=accuracy_score(y_test, y_pred)"
      ]
    },
    {
      "cell_type": "code",
      "execution_count": null,
      "metadata": {
        "colab": {
          "base_uri": "https://localhost:8080/"
        },
        "id": "Q1PLR7mnCDHm",
        "outputId": "c33a374e-1711-4002-b61c-efb4f6fa3613"
      },
      "outputs": [
        {
          "name": "stderr",
          "output_type": "stream",
          "text": [
            "/opt/anaconda3/lib/python3.12/site-packages/sklearn/linear_model/_logistic.py:469: ConvergenceWarning: lbfgs failed to converge (status=1):\n",
            "STOP: TOTAL NO. of ITERATIONS REACHED LIMIT.\n",
            "\n",
            "Increase the number of iterations (max_iter) or scale the data as shown in:\n",
            "    https://scikit-learn.org/stable/modules/preprocessing.html\n",
            "Please also refer to the documentation for alternative solver options:\n",
            "    https://scikit-learn.org/stable/modules/linear_model.html#logistic-regression\n",
            "  n_iter_i = _check_optimize_result(\n"
          ]
        }
      ],
      "source": [
        "#ensemble\n",
        "from sklearn.ensemble import VotingClassifier\n",
        "\n",
        "voting=VotingClassifier(estimators=[('rf',rf),('xgb',best_xgb),('log_reg', logreg)],voting='soft')\n",
        "\n",
        "voting.fit(X_train,y_train)\n",
        "\n",
        "y_pred = voting.predict(X_test)"
      ]
    },
    {
      "cell_type": "code",
      "execution_count": null,
      "metadata": {
        "colab": {
          "base_uri": "https://localhost:8080/",
          "height": 216
        },
        "id": "e2TJAcQ-CXxI",
        "outputId": "c7fe8651-fe65-4b54-a302-c661b4f21bd2"
      },
      "outputs": [
        {
          "name": "stdout",
          "output_type": "stream",
          "text": [
            "0.9164845836368051\n",
            "              precision    recall  f1-score   support\n",
            "\n",
            "           0       0.94      0.97      0.95      7298\n",
            "           1       0.70      0.48      0.57       940\n",
            "\n",
            "    accuracy                           0.92      8238\n",
            "   macro avg       0.82      0.72      0.76      8238\n",
            "weighted avg       0.91      0.92      0.91      8238\n",
            "\n",
            "[[7102  196]\n",
            " [ 492  448]]\n"
          ]
        }
      ],
      "source": [
        "accuracy=accuracy_score(y_test, y_pred)\n",
        "report=classification_report(y_test, y_pred)\n",
        "cm=confusion_matrix(y_test,y_pred)\n",
        "print(accuracy)\n",
        "print(report)\n",
        "print(cm)"
      ]
    },
    {
      "cell_type": "code",
      "execution_count": null,
      "metadata": {
        "id": "wWkc0Mr2AXDN",
        "outputId": "e99e7659-d11e-4eb1-c850-3bdd1d3750e2"
      },
      "outputs": [
        {
          "data": {
            "image/png": "[encoded data removed]",
            "text/plain": [
              "<Figure size 640x480 with 1 Axes>"
            ]
          },
          "metadata": {},
          "output_type": "display_data"
        }
      ],
      "source": [
        "y_prob = voting.predict_proba(X_test)[:, 1]\n",
        "fpr, tpr, thresholds = roc_curve(y_test, y_prob)\n",
        "roc_auc = roc_auc_score(y_test, y_prob)\n",
        "\n",
        "plt.figure()\n",
        "plt.plot(fpr, tpr, color='darkorange', lw=2, label='ROC curve (AUC = {:.2f})'.format(roc_auc))\n",
        "plt.plot([0, 1], [0, 1], color='navy', lw=2, linestyle='--')\n",
        "plt.xlabel('FPR')\n",
        "plt.ylabel('TPR')\n",
        "plt.title('(ROC) Curve')\n",
        "plt.legend(loc=\"lower right\")\n",
        "plt.show()"
      ]
    },
    {
      "cell_type": "markdown",
      "metadata": {
        "id": "FhRPRTA2AXDN"
      },
      "source": [
        "For the deployment of the data, we consier wrap the model in a service and serive it through API using flasl or fastAPI. The marketing team can use API calls to use the model. This model provides in sights for client segementation and helps identifying marketing target.\n",
        "\n",
        "Current data already includes the clients demogaphics, financial status, economic environments and phone contact details. Other data, such as geopspatial data, interest rates, customer surveys could also be helpful.\n",
        "\n",
        "For contact duration for new clients, we consider impute it with a regression model first, then perform prediction."
      ]
    },
    {
      "cell_type": "markdown",
      "metadata": {
        "id": "5JpCt2uHAXDN"
      },
      "source": [
        "**Key Summaries**\n",
        "- Students, unemployed and retired people have high comversion rate\n",
        "- Having housing loan or other loans did not affect conversion rate. However, we may dive a deeper look by further segmenting the clientns who have loans to see if there are patterns.\n",
        "- We implemented several methods to perform the classification task, inclusing logistic regression, random forest and XGBoost. Since the dataset is unbalanced. We undersampled the data for logistic regression for a better results. For more robust methods such as random forest and XGBoost, we used unsampled training set.\n",
        "- It is crutial to have a good balance between the precision and recall. However it depends on the actual business scenario to decide which metrics to ehphasize at."
      ]
    },
    {
      "cell_type": "markdown",
      "metadata": {
        "id": "B-QxcUYZAXDN"
      },
      "source": []
    }
  ],
  "metadata": {
    "colab": {
      "provenance": []
    },
    "kernelspec": {
      "display_name": "Python 3",
      "name": "python3"
    },
    "language_info": {
      "codemirror_mode": {
        "name": "ipython",
        "version": 3
      },
      "file_extension": ".py",
      "mimetype": "text/x-python",
      "name": "python",
      "nbconvert_exporter": "python",
      "pygments_lexer": "ipython3",
      "version": "3.12.2"
    }
  },
  "nbformat": 4,
  "nbformat_minor": 0
}